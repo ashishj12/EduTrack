{
 "cells": [
  {
   "cell_type": "code",
   "execution_count": 1,
   "metadata": {},
   "outputs": [
    {
     "name": "stdout",
     "output_type": "stream",
     "text": [
      "WARNING:tensorflow:From c:\\Users\\pc\\Desktop\\faceattendencemodel\\venv\\lib\\site-packages\\keras\\src\\backend\\tensorflow\\core.py:219: The name tf.placeholder is deprecated. Please use tf.compat.v1.placeholder instead.\n",
      "\n"
     ]
    }
   ],
   "source": [
    "import numpy as np\n",
    "from keras_facenet import FaceNet\n",
    "# Specify the path to the .npz file you want to load\n",
    "e = input(\"Enter the passing year: \")  # For example: 2025\n",
    "file_path = f'C:\\\\Users\\\\pc\\\\Desktop\\\\faceattendencemodel\\\\models\\\\{e}.npz'\n",
    "\n",
    "# Load the .npz file\n",
    "data = np.load(file_path)\n",
    "\n",
    "# Extract the variables from the loaded data using the saved keys\n",
    "EMBEDDED_X= data['EMBEDDED_X']\n",
    "Y = data['Y']\n",
    "\n",
    "embedder = FaceNet()\n",
    "def get_embedding(face_img):\n",
    "    face_img = face_img.astype('float32') # 3D(160x160x3)\n",
    "    face_img = np.expand_dims(face_img, axis=0) \n",
    "    # 4D (Nonex160x160x3)\n",
    "    yhat= embedder.embeddings(face_img)\n",
    "    return yhat[0] # 512D image (1x1x512)"
   ]
  },
  {
   "cell_type": "code",
   "execution_count": 2,
   "metadata": {},
   "outputs": [
    {
     "name": "stdout",
     "output_type": "stream",
     "text": [
      "['21ESBCA003' '21ESBCA003' '21ESBCA003' ... '22ESBCS203' '22ESBCS203'\n",
      " '22ESBCS203']\n"
     ]
    }
   ],
   "source": [
    "print(Y)"
   ]
  },
  {
   "cell_type": "code",
   "execution_count": 4,
   "metadata": {},
   "outputs": [
    {
     "name": "stdout",
     "output_type": "stream",
     "text": [
      "\u001b[1m1/1\u001b[0m \u001b[32m━━━━━━━━━━━━━━━━━━━━\u001b[0m\u001b[37m\u001b[0m \u001b[1m2s\u001b[0m 2s/step\n",
      "[0]\n",
      "[0]\n"
     ]
    }
   ],
   "source": [
    "from sklearn.preprocessing import LabelEncoder\n",
    "from sklearn.metrics import accuracy_score\n",
    "from sklearn.model_selection import train_test_split\n",
    "from mtcnn.mtcnn import MTCNN\n",
    "import cv2 as cv\n",
    "\n",
    "\n",
    "encoder = LabelEncoder()\n",
    "encoder.fit(Y)\n",
    "Y = encoder.transform(Y)\n",
    "\n",
    "\n",
    "\n",
    "X_train, X_test, Y_train, Y_test = train_test_split(EMBEDDED_X, Y, shuffle=True, random_state=17)\n",
    "\n",
    "from sklearn.svm import SVC\n",
    "model = SVC(kernel='linear', probability=True)\n",
    "model.fit(X_train, Y_train)\n",
    "\n",
    "ypreds_train = model.predict(X_train)\n",
    "ypreds_test = model.predict(X_test)\n",
    "\n",
    "accuracy_score(Y_train, ypreds_train)\n",
    "accuracy_score(Y_test,ypreds_test)\n",
    "\n",
    "t_im = cv.imread(\"C:\\\\Users\\\\pc\\\\Desktop\\\\faceattendencemodel\\\\data\\\\test\\\\21ESBCA003.jpg\")\n",
    "t_im = cv.cvtColor(t_im, cv.COLOR_BGR2RGB)\n",
    "detector = MTCNN()\n",
    "x,y,w,h = detector.detect_faces(t_im)[0]['box']\n",
    "\n",
    "t_im = t_im[y:y+h, x:x+w]\n",
    "t_im = cv.resize(t_im, (160,160))\n",
    "test_im = get_embedding(t_im)\n",
    "\n",
    "test_im = [test_im]\n",
    "ypreds = model.predict(test_im)\n",
    "print(ypreds)\n",
    "print(encoder.inverse_transform(ypreds))\n",
    "\n",
    "import pickle\n",
    "#save the model\n",
    "with open('C:\\\\Users\\\\pc\\\\Desktop\\\\faceattendencemodel\\\\models\\\\svm2025.pkl','wb') as f:\n",
    "    pickle.dump(model,f)"
   ]
  }
 ],
 "metadata": {
  "kernelspec": {
   "display_name": "venv",
   "language": "python",
   "name": "python3"
  },
  "language_info": {
   "codemirror_mode": {
    "name": "ipython",
    "version": 3
   },
   "file_extension": ".py",
   "mimetype": "text/x-python",
   "name": "python",
   "nbconvert_exporter": "python",
   "pygments_lexer": "ipython3",
   "version": "3.10.16"
  }
 },
 "nbformat": 4,
 "nbformat_minor": 2
}
