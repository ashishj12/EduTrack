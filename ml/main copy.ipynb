{
 "cells": [
  {
   "cell_type": "markdown",
   "metadata": {},
   "source": [
    "# image copy"
   ]
  },
  {
   "cell_type": "code",
   "execution_count": 10,
   "metadata": {},
   "outputs": [
    {
     "name": "stdout",
     "output_type": "stream",
     "text": [
      "✅ 10 images saved for Arjun Singh in 'augmented_faces\\Arjun_Singh/' 🎉\n",
      "✅ 10 images saved for ashish in 'augmented_faces\\ashish/' 🎉\n",
      "✅ 10 images saved for Ashlin Mishra in 'augmented_faces\\Ashlin_Mishra/' 🎉\n",
      "✅ 10 images saved for Keshav Sharma in 'augmented_faces\\Keshav_Sharma/' 🎉\n",
      "✅ 10 images saved for Lokendra Singh in 'augmented_faces\\Lokendra_Singh/' 🎉\n",
      "✅ 10 images saved for Ravi Saharan in 'augmented_faces\\Ravi_Saharan/' 🎉\n",
      "✅ 10 images saved for Saurabh Chouhan in 'augmented_faces\\Saurabh_Chouhan/' 🎉\n",
      "✅ 10 images saved for Siya Chaudhary in 'augmented_faces\\Siya_Chaudhary/' 🎉\n",
      "✅ 10 images saved for uttam in 'augmented_faces\\uttam/' 🎉\n",
      "\n",
      "✅ Augmentation completed for all persons!\n"
     ]
    }
   ],
   "source": [
    "import os\n",
    "import numpy as np\n",
    "import cv2\n",
    "from tensorflow.keras.preprocessing.image import ImageDataGenerator\n",
    "from PIL import Image\n",
    "\n",
    "# Input folder containing multiple person's images\n",
    "input_folder = \"train\"  # Folder where original images are stored\n",
    "output_base_folder = \"augmented_faces\"  # Folder to save augmented images\n",
    "\n",
    "# Create base output folder if it doesn't exist\n",
    "os.makedirs(output_base_folder, exist_ok=True)\n",
    "\n",
    "# Data Augmentation settings\n",
    "datagen = ImageDataGenerator(\n",
    "    rotation_range=30,      # Rotate image randomly\n",
    "    width_shift_range=0.1,  # Shift width by 10%\n",
    "    height_shift_range=0.1, # Shift height by 10%\n",
    "    shear_range=0.2,        # Shear transformation\n",
    "    zoom_range=0.2,         # Random zoom\n",
    "    horizontal_flip=True,   # Flip image horizontally\n",
    "    brightness_range=[0.8, 1.2],  # Adjust brightness\n",
    "    fill_mode=\"nearest\"\n",
    ")\n",
    "\n",
    "# Process each image in the input folder\n",
    "for img_name in os.listdir(input_folder):\n",
    "    if img_name.endswith(\".jpg\") or img_name.endswith(\".png\"):\n",
    "        person_name = os.path.splitext(img_name)[0].strip()  # Remove spaces\n",
    "        img_path = os.path.join(input_folder, img_name)\n",
    "\n",
    "        # Load and resize image\n",
    "        img = Image.open(img_path)\n",
    "        img = img.resize((160, 160))  # Resize to match face recognition models\n",
    "\n",
    "        # Create a separate folder for each person\n",
    "        person_folder = os.path.join(output_base_folder, person_name.replace(\" \", \"_\"))  # Replace spaces with _\n",
    "        os.makedirs(person_folder, exist_ok=True)\n",
    "\n",
    "        # Convert image to numpy array\n",
    "        img_array = np.expand_dims(np.array(img), axis=0)\n",
    "\n",
    "        # Generate and save augmented images\n",
    "        num_generated = 10  # Number of images per person\n",
    "        i = 0\n",
    "        for batch in datagen.flow(img_array, batch_size=1, save_to_dir=person_folder, save_prefix=person_name.replace(\" \", \"_\"), save_format=\"jpg\"):\n",
    "            i += 1\n",
    "            if i >= num_generated:\n",
    "                break  # Stop when required number of images is generated\n",
    "\n",
    "        print(f\"✅ {num_generated} images saved for {person_name} in '{person_folder}/' 🎉\")\n",
    "\n",
    "print(\"\\n✅ Augmentation completed for all persons!\")"
   ]
  }
 ],
 "metadata": {
  "kernelspec": {
   "display_name": "venv",
   "language": "python",
   "name": "python3"
  },
  "language_info": {
   "codemirror_mode": {
    "name": "ipython",
    "version": 3
   },
   "file_extension": ".py",
   "mimetype": "text/x-python",
   "name": "python",
   "nbconvert_exporter": "python",
   "pygments_lexer": "ipython3",
   "version": "3.10.16"
  }
 },
 "nbformat": 4,
 "nbformat_minor": 2
}
